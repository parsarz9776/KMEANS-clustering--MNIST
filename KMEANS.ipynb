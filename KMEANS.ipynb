{
 "cells": [
  {
   "cell_type": "code",
   "execution_count": 1,
   "id": "60300c8b",
   "metadata": {},
   "outputs": [],
   "source": [
    "# importing libraries\n",
    "import random\n",
    "from base64 import b64decode\n",
    "from json import loads\n",
    "import numpy as np\n",
    "import matplotlib.pyplot as plt\n",
    "from keras.datasets import mnist\n",
    "from sklearn.cluster import MiniBatchKMeans\n",
    "from sklearn import metrics"
   ]
  },
  {
   "cell_type": "code",
   "execution_count": 2,
   "id": "fb00dd0a",
   "metadata": {},
   "outputs": [
    {
     "name": "stdout",
     "output_type": "stream",
     "text": [
      "Downloading data from https://storage.googleapis.com/tensorflow/tf-keras-datasets/mnist.npz\n",
      "11493376/11490434 [==============================] - 2s 0us/step\n",
      "11501568/11490434 [==============================] - 2s 0us/step\n"
     ]
    }
   ],
   "source": [
    "# import the data\n",
    "(x_train, y_train), (x_test, y_test) = mnist.load_data()"
   ]
  },
  {
   "cell_type": "code",
   "execution_count": 3,
   "id": "6d614595",
   "metadata": {},
   "outputs": [
    {
     "name": "stdout",
     "output_type": "stream",
     "text": [
      "(60000, 28, 28)\n",
      "(10000, 28, 28)\n",
      "(60000,)\n",
      "(10000,)\n"
     ]
    }
   ],
   "source": [
    "# Checking the shape\n",
    "print(x_train.shape)\n",
    "print(x_test.shape)\n",
    "print(y_train.shape)\n",
    "print(y_test.shape)"
   ]
  },
  {
   "cell_type": "code",
   "execution_count": 4,
   "id": "dc8fe4d0",
   "metadata": {},
   "outputs": [
    {
     "data": {
      "text/plain": [
       "<Figure size 432x288 with 0 Axes>"
      ]
     },
     "metadata": {},
     "output_type": "display_data"
    },
    {
     "data": {
      "image/png": "[encoded data removed]",
      "text/plain": [
       "<Figure size 720x648 with 9 Axes>"
      ]
     },
     "metadata": {
      "needs_background": "light"
     },
     "output_type": "display_data"
    }
   ],
   "source": [
    "# Displaying a grid of 3x3 images\n",
    "plt.gray()\n",
    "plt.figure(figsize = (10,9)) \n",
    "for i in range(9):\n",
    " plt.subplot(3,3,i+1)\n",
    " plt.imshow(x_train[i])"
   ]
  },
  {
   "cell_type": "code",
   "execution_count": 5,
   "id": "e214cdfd",
   "metadata": {},
   "outputs": [],
   "source": [
    "# Data Normalization\n",
    "x_train = x_train.astype('float32') \n",
    "x_test = x_test.astype('float32')\n",
    "x_train = x_train/255.0\n",
    "x_test = x_test/255.0"
   ]
  },
  {
   "cell_type": "code",
   "execution_count": 6,
   "id": "9012df78",
   "metadata": {},
   "outputs": [
    {
     "name": "stdout",
     "output_type": "stream",
     "text": [
      "(60000, 784)\n",
      "(10000, 784)\n"
     ]
    }
   ],
   "source": [
    "# Reshaping input data\n",
    "X_train = x_train.reshape(len(x_train),-1)\n",
    "X_test = x_test.reshape(len(x_test),-1)\n",
    "print(X_train.shape)\n",
    "print(X_test.shape)"
   ]
  },
  {
   "cell_type": "code",
   "execution_count": 7,
   "id": "f6f260c8",
   "metadata": {},
   "outputs": [
    {
     "name": "stderr",
     "output_type": "stream",
     "text": [
      "C:\\Users\\ParsaRz\\anaconda3\\envs\\tensorflow\\lib\\site-packages\\sklearn\\cluster\\_kmeans.py:1045: UserWarning: MiniBatchKMeans is known to have a memory leak on Windows with MKL, when there are less chunks than available threads. You can prevent it by setting batch_size >= 2048 or by setting the environment variable OMP_NUM_THREADS=4\n",
      "  warnings.warn(\n"
     ]
    },
    {
     "name": "stdout",
     "output_type": "stream",
     "text": [
      "MiniBatchKMeans(n_clusters=10)\n"
     ]
    },
    {
     "data": {
      "text/plain": [
       "array([7, 4, 1, ..., 7, 5, 0])"
      ]
     },
     "execution_count": 7,
     "metadata": {},
     "output_type": "execute_result"
    }
   ],
   "source": [
    "# kmeans and the number of clusters\n",
    "total_clusters = len(np.unique(y_test))\n",
    "kmeans = MiniBatchKMeans(n_clusters = total_clusters)\n",
    "print(kmeans.fit(X_train))\n",
    "kmeans.labels_"
   ]
  },
  {
   "cell_type": "code",
   "execution_count": 8,
   "id": "51945afd",
   "metadata": {},
   "outputs": [
    {
     "name": "stderr",
     "output_type": "stream",
     "text": [
      "C:\\Users\\ParsaRz\\anaconda3\\envs\\tensorflow\\lib\\site-packages\\sklearn\\cluster\\_kmeans.py:1045: UserWarning: MiniBatchKMeans is known to have a memory leak on Windows with MKL, when there are less chunks than available threads. You can prevent it by setting batch_size >= 2048 or by setting the environment variable OMP_NUM_THREADS=4\n",
      "  warnings.warn(\n"
     ]
    },
    {
     "name": "stdout",
     "output_type": "stream",
     "text": [
      "MiniBatchKMeans(n_clusters=10)\n"
     ]
    },
    {
     "data": {
      "text/plain": [
       "array([4, 3, 2, ..., 4, 0, 4])"
      ]
     },
     "execution_count": 8,
     "metadata": {},
     "output_type": "execute_result"
    }
   ],
   "source": [
    "kmeans = MiniBatchKMeans(n_clusters = total_clusters)\n",
    "print(kmeans.fit(X_train))\n",
    "kmeans.labels_"
   ]
  },
  {
   "cell_type": "code",
   "execution_count": 9,
   "id": "a1528c05",
   "metadata": {},
   "outputs": [],
   "source": [
    "#assign cluster to each label\n",
    "def retrieve_info(cluster_labels , y_train):\n",
    "    reference_labels={}\n",
    "    for i in range(len(np.unique(kmeans.labels_))):\n",
    "        index=np.where(cluster_labels==i , 1 , 0)\n",
    "        num=np.bincount(y_train[index==1]).argmax()\n",
    "        reference_labels[i]=num\n",
    "    return reference_labels"
   ]
  },
  {
   "cell_type": "code",
   "execution_count": 10,
   "id": "c96210ee",
   "metadata": {},
   "outputs": [],
   "source": [
    "#find the number of labels\n",
    "reference_labels = retrieve_info(kmeans.labels_,y_train)\n",
    "number_labels = np.random.rand(len(kmeans.labels_))\n",
    "for i in range(len(kmeans.labels_)):\n",
    "  number_labels[i] = reference_labels[kmeans.labels_[i]]"
   ]
  },
  {
   "cell_type": "code",
   "execution_count": 11,
   "id": "bf68ef85",
   "metadata": {},
   "outputs": [
    {
     "name": "stdout",
     "output_type": "stream",
     "text": [
      "[8 0 4 1 7 2 1 3 1 7 3 1 3 6 1 7 2 8 6 7]\n",
      "[5 0 4 1 9 2 1 3 1 4 3 5 3 6 1 7 2 8 6 9]\n"
     ]
    }
   ],
   "source": [
    "# Comparing Predicted values and Actual values\n",
    "print(number_labels[:20].astype('int'))\n",
    "print(y_train[:20])"
   ]
  },
  {
   "cell_type": "code",
   "execution_count": 12,
   "id": "6fd381d9",
   "metadata": {},
   "outputs": [
    {
     "name": "stdout",
     "output_type": "stream",
     "text": [
      "0.5576833333333333\n"
     ]
    }
   ],
   "source": [
    "# Calculating accuracy score\n",
    "from sklearn.metrics import accuracy_score\n",
    "print(accuracy_score(number_labels,y_train))"
   ]
  },
  {
   "cell_type": "code",
   "execution_count": 13,
   "id": "742d4858",
   "metadata": {},
   "outputs": [],
   "source": [
    "# Function to calculate metrics for the model\n",
    "def calculate_metrics(model,output):\n",
    " print('Number of clusters is {}'.format(model.n_clusters))\n",
    " print('Inertia : {}'.format(model.inertia_))\n",
    " print('Homogeneity :       {}'.format(metrics.homogeneity_score(output,model.labels_)))"
   ]
  },
  {
   "cell_type": "code",
   "execution_count": 14,
   "id": "9cf48156",
   "metadata": {},
   "outputs": [
    {
     "name": "stderr",
     "output_type": "stream",
     "text": [
      "C:\\Users\\ParsaRz\\anaconda3\\envs\\tensorflow\\lib\\site-packages\\sklearn\\cluster\\_kmeans.py:1045: UserWarning: MiniBatchKMeans is known to have a memory leak on Windows with MKL, when there are less chunks than available threads. You can prevent it by setting batch_size >= 2048 or by setting the environment variable OMP_NUM_THREADS=4\n",
      "  warnings.warn(\n"
     ]
    },
    {
     "name": "stdout",
     "output_type": "stream",
     "text": [
      "Number of clusters is 5\n",
      "Inertia : 441236.375\n",
      "Homogeneity :       0.2920305533326313\n",
      "Accuracy score : 0.3949\n",
      "\n",
      "\n"
     ]
    }
   ],
   "source": [
    "# Testing model on Testing set\n",
    "# Fitting the model to testing set\n",
    "# Calculating the metrics\n",
    "# Calculating the reference_labels\n",
    "# ‘number_labels’ is a list which denotes the number displayed in image\n",
    "kmeans = MiniBatchKMeans(n_clusters = 5)\n",
    "kmeans.fit(X_test)\n",
    "calculate_metrics(kmeans,y_test)\n",
    "reference_labels = retrieve_info(kmeans.labels_,y_test)\n",
    "number_labels = np.random.rand(len(kmeans.labels_))\n",
    "for i in range(len(kmeans.labels_)):\n",
    " number_labels[i] = reference_labels[kmeans.labels_[i]]\n",
    "print('Accuracy score : {}'.format(accuracy_score(number_labels,y_test)))\n",
    "print('\\n')"
   ]
  },
  {
   "cell_type": "code",
   "execution_count": 15,
   "id": "b984fc63",
   "metadata": {},
   "outputs": [
    {
     "name": "stderr",
     "output_type": "stream",
     "text": [
      "C:\\Users\\ParsaRz\\anaconda3\\envs\\tensorflow\\lib\\site-packages\\sklearn\\cluster\\_kmeans.py:1045: UserWarning: MiniBatchKMeans is known to have a memory leak on Windows with MKL, when there are less chunks than available threads. You can prevent it by setting batch_size >= 2048 or by setting the environment variable OMP_NUM_THREADS=4\n",
      "  warnings.warn(\n"
     ]
    },
    {
     "name": "stdout",
     "output_type": "stream",
     "text": [
      "Number of clusters is 10\n",
      "Inertia : 395387.34375\n",
      "Homogeneity :       0.4737813539941736\n",
      "Accuracy score : 0.5648\n",
      "\n",
      "\n"
     ]
    }
   ],
   "source": [
    "# Testing model on Testing set\n",
    "# Fitting the model to testing set\n",
    "# Calculating the metrics\n",
    "# Calculating the reference_labels\n",
    "# ‘number_labels’ is a list which denotes the number displayed in image\n",
    "kmeans = MiniBatchKMeans(n_clusters = 10)\n",
    "kmeans.fit(X_test)\n",
    "calculate_metrics(kmeans,y_test)\n",
    "reference_labels = retrieve_info(kmeans.labels_,y_test)\n",
    "number_labels = np.random.rand(len(kmeans.labels_))\n",
    "for i in range(len(kmeans.labels_)):\n",
    " number_labels[i] = reference_labels[kmeans.labels_[i]]\n",
    "print('Accuracy score : {}'.format(accuracy_score(number_labels,y_test)))\n",
    "print('\\n')"
   ]
  },
  {
   "cell_type": "code",
   "execution_count": 16,
   "id": "3b0aa93b",
   "metadata": {},
   "outputs": [
    {
     "name": "stderr",
     "output_type": "stream",
     "text": [
      "C:\\Users\\ParsaRz\\anaconda3\\envs\\tensorflow\\lib\\site-packages\\sklearn\\cluster\\_kmeans.py:1045: UserWarning: MiniBatchKMeans is known to have a memory leak on Windows with MKL, when there are less chunks than available threads. You can prevent it by setting batch_size >= 2048 or by setting the environment variable OMP_NUM_THREADS=4\n",
      "  warnings.warn(\n"
     ]
    },
    {
     "name": "stdout",
     "output_type": "stream",
     "text": [
      "Number of clusters is 20\n",
      "Inertia : 352139.46875\n",
      "Homogeneity :       0.6213284220909482\n",
      "Accuracy score : 0.7216\n",
      "\n",
      "\n"
     ]
    }
   ],
   "source": [
    "# Testing model on Testing set\n",
    "# Fitting the model to testing set\n",
    "# Calculating the metrics\n",
    "# Calculating the reference_labels\n",
    "# ‘number_labels’ is a list which denotes the number displayed in image\n",
    "kmeans = MiniBatchKMeans(n_clusters = 20)\n",
    "kmeans.fit(X_test)\n",
    "calculate_metrics(kmeans,y_test)\n",
    "reference_labels = retrieve_info(kmeans.labels_,y_test)\n",
    "number_labels = np.random.rand(len(kmeans.labels_))\n",
    "for i in range(len(kmeans.labels_)):\n",
    " number_labels[i] = reference_labels[kmeans.labels_[i]]\n",
    "print('Accuracy score : {}'.format(accuracy_score(number_labels,y_test)))\n",
    "print('\\n')"
   ]
  },
  {
   "cell_type": "code",
   "execution_count": 17,
   "id": "659c6041",
   "metadata": {},
   "outputs": [
    {
     "name": "stderr",
     "output_type": "stream",
     "text": [
      "C:\\Users\\ParsaRz\\anaconda3\\envs\\tensorflow\\lib\\site-packages\\sklearn\\cluster\\_kmeans.py:1045: UserWarning: MiniBatchKMeans is known to have a memory leak on Windows with MKL, when there are less chunks than available threads. You can prevent it by setting batch_size >= 2048 or by setting the environment variable OMP_NUM_THREADS=4\n",
      "  warnings.warn(\n"
     ]
    },
    {
     "name": "stdout",
     "output_type": "stream",
     "text": [
      "Number of clusters is 100\n",
      "Inertia : 275487.53125\n",
      "Homogeneity :       0.801209792712772\n",
      "Accuracy score : 0.8569\n",
      "\n",
      "\n"
     ]
    }
   ],
   "source": [
    "# Testing model on Testing set\n",
    "# Fitting the model to testing set\n",
    "# Calculating the metrics\n",
    "# Calculating the reference_labels\n",
    "# ‘number_labels’ is a list which denotes the number displayed in image\n",
    "kmeans = MiniBatchKMeans(n_clusters = 100)\n",
    "kmeans.fit(X_test)\n",
    "calculate_metrics(kmeans,y_test)\n",
    "reference_labels = retrieve_info(kmeans.labels_,y_test)\n",
    "number_labels = np.random.rand(len(kmeans.labels_))\n",
    "for i in range(len(kmeans.labels_)):\n",
    " number_labels[i] = reference_labels[kmeans.labels_[i]]\n",
    "print('Accuracy score : {}'.format(accuracy_score(number_labels,y_test)))\n",
    "print('\\n')"
   ]
  },
  {
   "cell_type": "code",
   "execution_count": 18,
   "id": "3e5d96e6",
   "metadata": {},
   "outputs": [
    {
     "name": "stderr",
     "output_type": "stream",
     "text": [
      "C:\\Users\\ParsaRz\\anaconda3\\envs\\tensorflow\\lib\\site-packages\\sklearn\\cluster\\_kmeans.py:1045: UserWarning: MiniBatchKMeans is known to have a memory leak on Windows with MKL, when there are less chunks than available threads. You can prevent it by setting batch_size >= 2048 or by setting the environment variable OMP_NUM_THREADS=4\n",
      "  warnings.warn(\n"
     ]
    },
    {
     "name": "stdout",
     "output_type": "stream",
     "text": [
      "Number of clusters is 150\n",
      "Inertia : 261404.03125\n",
      "Homogeneity :       0.8361950074808884\n",
      "Accuracy score : 0.8826\n",
      "\n",
      "\n"
     ]
    }
   ],
   "source": [
    "# Testing model on Testing set\n",
    "# Fitting the model to testing set\n",
    "# Calculating the metrics\n",
    "# Calculating the reference_labels\n",
    "# ‘number_labels’ is a list which denotes the number displayed in image\n",
    "kmeans = MiniBatchKMeans(n_clusters = 150)\n",
    "kmeans.fit(X_test)\n",
    "calculate_metrics(kmeans,y_test)\n",
    "reference_labels = retrieve_info(kmeans.labels_,y_test)\n",
    "number_labels = np.random.rand(len(kmeans.labels_))\n",
    "for i in range(len(kmeans.labels_)):\n",
    " number_labels[i] = reference_labels[kmeans.labels_[i]]\n",
    "print('Accuracy score : {}'.format(accuracy_score(number_labels,y_test)))\n",
    "print('\\n')"
   ]
  },
  {
   "cell_type": "code",
   "execution_count": 19,
   "id": "73f6f896",
   "metadata": {},
   "outputs": [
    {
     "name": "stderr",
     "output_type": "stream",
     "text": [
      "C:\\Users\\ParsaRz\\anaconda3\\envs\\tensorflow\\lib\\site-packages\\sklearn\\cluster\\_kmeans.py:1045: UserWarning: MiniBatchKMeans is known to have a memory leak on Windows with MKL, when there are less chunks than available threads. You can prevent it by setting batch_size >= 2048 or by setting the environment variable OMP_NUM_THREADS=4\n",
      "  warnings.warn(\n"
     ]
    },
    {
     "name": "stdout",
     "output_type": "stream",
     "text": [
      "Number of clusters is 256\n",
      "Inertia : 239263.59375\n",
      "Homogeneity :       0.8628848841763034\n",
      "Accuracy score : 0.9017\n",
      "\n",
      "\n"
     ]
    }
   ],
   "source": [
    "# Testing model on Testing set\n",
    "# Fitting the model to testing set\n",
    "# Calculating the metrics\n",
    "# Calculating the reference_labels\n",
    "# ‘number_labels’ is a list which denotes the number displayed in image\n",
    "kmeans = MiniBatchKMeans(n_clusters = 256)\n",
    "kmeans.fit(X_test)\n",
    "calculate_metrics(kmeans,y_test)\n",
    "reference_labels = retrieve_info(kmeans.labels_,y_test)\n",
    "number_labels = np.random.rand(len(kmeans.labels_))\n",
    "for i in range(len(kmeans.labels_)):\n",
    " number_labels[i] = reference_labels[kmeans.labels_[i]]\n",
    "print('Accuracy score : {}'.format(accuracy_score(number_labels,y_test)))\n",
    "print('\\n')"
   ]
  },
  {
   "cell_type": "code",
   "execution_count": 20,
   "id": "d78e2761",
   "metadata": {},
   "outputs": [],
   "source": [
    "# Cluster centroids is stored in ‘centroids’\n",
    "centroids = kmeans.cluster_centers_"
   ]
  },
  {
   "cell_type": "code",
   "execution_count": 21,
   "id": "9ff11e13",
   "metadata": {},
   "outputs": [
    {
     "data": {
      "text/plain": [
       "(256, 784)"
      ]
     },
     "execution_count": 21,
     "metadata": {},
     "output_type": "execute_result"
    }
   ],
   "source": [
    "centroids.shape"
   ]
  },
  {
   "cell_type": "code",
   "execution_count": 22,
   "id": "3a5c1727",
   "metadata": {},
   "outputs": [],
   "source": [
    "#reshape the cenroids\n",
    "#nullify the normalization effect by multiplying by 255\n",
    "centroids = centroids.reshape(256,28,28)\n",
    "centroids = centroids * 255"
   ]
  },
  {
   "cell_type": "code",
   "execution_count": 23,
   "id": "30dabc88",
   "metadata": {},
   "outputs": [
    {
     "data": {
      "image/png": "[encoded data removed]",
      "text/plain": [
       "<Figure size 720x648 with 16 Axes>"
      ]
     },
     "metadata": {
      "needs_background": "light"
     },
     "output_type": "display_data"
    }
   ],
   "source": [
    "#visualize the cluster centroids.\n",
    "plt.figure(figsize = (10,9))\n",
    "bottom = 0.35\n",
    "for i in range(16):\n",
    " plt.subplots_adjust(bottom)\n",
    " plt.subplot(4,4,i+1)\n",
    " plt.title('Number:{}'.format(reference_labels[i]),fontsize = 17)\n",
    " plt.imshow(centroids[i])"
   ]
  }
 ],
 "metadata": {
  "kernelspec": {
   "display_name": "Python 3 (ipykernel)",
   "language": "python",
   "name": "python3"
  },
  "language_info": {
   "codemirror_mode": {
    "name": "ipython",
    "version": 3
   },
   "file_extension": ".py",
   "mimetype": "text/x-python",
   "name": "python",
   "nbconvert_exporter": "python",
   "pygments_lexer": "ipython3",
   "version": "3.9.7"
  }
 },
 "nbformat": 4,
 "nbformat_minor": 5
}
